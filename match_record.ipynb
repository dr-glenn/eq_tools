{
 "cells": [
  {
   "cell_type": "code",
   "execution_count": 31,
   "metadata": {
    "collapsed": true
   },
   "outputs": [
    {
     "data": {
      "text/plain": "                                              filename            templ_dt  \\\n0    Templ-2018-05-13T15-19-22_Det-2018-05-13T15-31... 2018-05-13 15:19:22   \n1    Templ-2018-05-13T15-31-12_Det-2018-05-13T15-19... 2018-05-13 15:31:12   \n2    Templ-2018-05-15T01-33-39_Det-2019-08-07T20-28... 2018-05-15 01:33:39   \n3    Templ-2018-05-15T01-33-39_Det-2019-08-21T06-03... 2018-05-15 01:33:39   \n4    Templ-2018-05-19T08-14-07_Det-2018-05-22T05-24... 2018-05-19 08:14:07   \n..                                                 ...                 ...   \n936  Templ-2019-07-31T16-19-40_Det-2018-09-09T16-27... 2019-07-31 16:19:40   \n937  Templ-2019-07-31T16-19-40_Det-2018-11-08T21-09... 2019-07-31 16:19:40   \n938  Templ-2019-07-31T16-19-40_Det-2018-11-08T03-07... 2019-07-31 16:19:40   \n939  Templ-2019-07-31T16-19-40_Det-2018-11-08T23-10... 2019-07-31 16:19:40   \n940  Templ-2019-07-31T16-19-40_Det-2018-11-06T15-09... 2019-07-31 16:19:40   \n\n                 det_dt region  quality  is_new  \n0   2018-05-13 15:31:26      0        4       0  \n1   2018-05-13 15:19:35      0        4       0  \n2   2019-08-07 20:28:54      5        1       1  \n3   2019-08-21 06:03:46      5        1       1  \n4   2018-05-22 05:24:26      1        4       0  \n..                  ...    ...      ...     ...  \n936 2018-09-09 16:27:40      6        1       1  \n937 2018-11-08 21:09:58      6        1       1  \n938 2018-11-08 03:07:18      6        1       1  \n939 2018-11-08 23:10:06      6        1       1  \n940 2018-11-06 15:09:05      6        1       1  \n\n[941 rows x 6 columns]",
      "text/html": "<div>\n<style scoped>\n    .dataframe tbody tr th:only-of-type {\n        vertical-align: middle;\n    }\n\n    .dataframe tbody tr th {\n        vertical-align: top;\n    }\n\n    .dataframe thead th {\n        text-align: right;\n    }\n</style>\n<table border=\"1\" class=\"dataframe\">\n  <thead>\n    <tr style=\"text-align: right;\">\n      <th></th>\n      <th>filename</th>\n      <th>templ_dt</th>\n      <th>det_dt</th>\n      <th>region</th>\n      <th>quality</th>\n      <th>is_new</th>\n    </tr>\n  </thead>\n  <tbody>\n    <tr>\n      <th>0</th>\n      <td>Templ-2018-05-13T15-19-22_Det-2018-05-13T15-31...</td>\n      <td>2018-05-13 15:19:22</td>\n      <td>2018-05-13 15:31:26</td>\n      <td>0</td>\n      <td>4</td>\n      <td>0</td>\n    </tr>\n    <tr>\n      <th>1</th>\n      <td>Templ-2018-05-13T15-31-12_Det-2018-05-13T15-19...</td>\n      <td>2018-05-13 15:31:12</td>\n      <td>2018-05-13 15:19:35</td>\n      <td>0</td>\n      <td>4</td>\n      <td>0</td>\n    </tr>\n    <tr>\n      <th>2</th>\n      <td>Templ-2018-05-15T01-33-39_Det-2019-08-07T20-28...</td>\n      <td>2018-05-15 01:33:39</td>\n      <td>2019-08-07 20:28:54</td>\n      <td>5</td>\n      <td>1</td>\n      <td>1</td>\n    </tr>\n    <tr>\n      <th>3</th>\n      <td>Templ-2018-05-15T01-33-39_Det-2019-08-21T06-03...</td>\n      <td>2018-05-15 01:33:39</td>\n      <td>2019-08-21 06:03:46</td>\n      <td>5</td>\n      <td>1</td>\n      <td>1</td>\n    </tr>\n    <tr>\n      <th>4</th>\n      <td>Templ-2018-05-19T08-14-07_Det-2018-05-22T05-24...</td>\n      <td>2018-05-19 08:14:07</td>\n      <td>2018-05-22 05:24:26</td>\n      <td>1</td>\n      <td>4</td>\n      <td>0</td>\n    </tr>\n    <tr>\n      <th>...</th>\n      <td>...</td>\n      <td>...</td>\n      <td>...</td>\n      <td>...</td>\n      <td>...</td>\n      <td>...</td>\n    </tr>\n    <tr>\n      <th>936</th>\n      <td>Templ-2019-07-31T16-19-40_Det-2018-09-09T16-27...</td>\n      <td>2019-07-31 16:19:40</td>\n      <td>2018-09-09 16:27:40</td>\n      <td>6</td>\n      <td>1</td>\n      <td>1</td>\n    </tr>\n    <tr>\n      <th>937</th>\n      <td>Templ-2019-07-31T16-19-40_Det-2018-11-08T21-09...</td>\n      <td>2019-07-31 16:19:40</td>\n      <td>2018-11-08 21:09:58</td>\n      <td>6</td>\n      <td>1</td>\n      <td>1</td>\n    </tr>\n    <tr>\n      <th>938</th>\n      <td>Templ-2019-07-31T16-19-40_Det-2018-11-08T03-07...</td>\n      <td>2019-07-31 16:19:40</td>\n      <td>2018-11-08 03:07:18</td>\n      <td>6</td>\n      <td>1</td>\n      <td>1</td>\n    </tr>\n    <tr>\n      <th>939</th>\n      <td>Templ-2019-07-31T16-19-40_Det-2018-11-08T23-10...</td>\n      <td>2019-07-31 16:19:40</td>\n      <td>2018-11-08 23:10:06</td>\n      <td>6</td>\n      <td>1</td>\n      <td>1</td>\n    </tr>\n    <tr>\n      <th>940</th>\n      <td>Templ-2019-07-31T16-19-40_Det-2018-11-06T15-09...</td>\n      <td>2019-07-31 16:19:40</td>\n      <td>2018-11-06 15:09:05</td>\n      <td>6</td>\n      <td>1</td>\n      <td>1</td>\n    </tr>\n  </tbody>\n</table>\n<p>941 rows × 6 columns</p>\n</div>"
     },
     "execution_count": 31,
     "metadata": {},
     "output_type": "execute_result"
    }
   ],
   "source": [
    "import pandas as pd\n",
    "import datetime as dt\n",
    "\n",
    "MATCH_RECORD_FILE = 'E:\\Glenn Nelson\\science\\eq_gaps\\match_records.csv'\n",
    "csv_file = MATCH_RECORD_FILE\n",
    "date_cols = ['templ_dt', 'det_dt']\n",
    "df = pd.read_csv(csv_file, dtype={'region':'string'}, parse_dates=date_cols)\n",
    "df"
   ]
  },
  {
   "cell_type": "code",
   "execution_count": 32,
   "outputs": [
    {
     "data": {
      "text/plain": "   total  unseen\n4    257    <NA>\n1    242    <NA>\n5    160    <NA>\n0    130    <NA>\n6    109    <NA>\n3     22    <NA>\n2     21    <NA>",
      "text/html": "<div>\n<style scoped>\n    .dataframe tbody tr th:only-of-type {\n        vertical-align: middle;\n    }\n\n    .dataframe tbody tr th {\n        vertical-align: top;\n    }\n\n    .dataframe thead th {\n        text-align: right;\n    }\n</style>\n<table border=\"1\" class=\"dataframe\">\n  <thead>\n    <tr style=\"text-align: right;\">\n      <th></th>\n      <th>total</th>\n      <th>unseen</th>\n    </tr>\n  </thead>\n  <tbody>\n    <tr>\n      <th>4</th>\n      <td>257</td>\n      <td>&lt;NA&gt;</td>\n    </tr>\n    <tr>\n      <th>1</th>\n      <td>242</td>\n      <td>&lt;NA&gt;</td>\n    </tr>\n    <tr>\n      <th>5</th>\n      <td>160</td>\n      <td>&lt;NA&gt;</td>\n    </tr>\n    <tr>\n      <th>0</th>\n      <td>130</td>\n      <td>&lt;NA&gt;</td>\n    </tr>\n    <tr>\n      <th>6</th>\n      <td>109</td>\n      <td>&lt;NA&gt;</td>\n    </tr>\n    <tr>\n      <th>3</th>\n      <td>22</td>\n      <td>&lt;NA&gt;</td>\n    </tr>\n    <tr>\n      <th>2</th>\n      <td>21</td>\n      <td>&lt;NA&gt;</td>\n    </tr>\n  </tbody>\n</table>\n</div>"
     },
     "execution_count": 32,
     "metadata": {},
     "output_type": "execute_result"
    }
   ],
   "source": [
    "region_cnt = df['region'].value_counts()\n",
    "region_cnt.rename('total', inplace=True)\n",
    "unseen_df = df[df['quality']==-1]\n",
    "unseen_cnt = unseen_df['region'].value_counts()\n",
    "unseen_cnt.rename('unseen', inplace=True)\n",
    "cnt_df = pd.concat([region_cnt,unseen_cnt], axis=1)\n",
    "cnt_df"
   ],
   "metadata": {
    "collapsed": false,
    "pycharm": {
     "name": "#%%\n"
    }
   }
  },
  {
   "cell_type": "code",
   "execution_count": 33,
   "outputs": [
    {
     "data": {
      "text/plain": "4    253\n1    210\n5    115\n6     93\n0     75\n3     21\n2     15\nName: region, dtype: Int64"
     },
     "execution_count": 33,
     "metadata": {},
     "output_type": "execute_result"
    }
   ],
   "source": [
    "# tally the new events and the templates that match other templates\n",
    "new_cnt = df[df['is_new']==1]\n",
    "new_cnt = new_cnt['region'].value_counts()\n",
    "new_cnt"
   ],
   "metadata": {
    "collapsed": false,
    "pycharm": {
     "name": "#%%\n"
    }
   }
  },
  {
   "cell_type": "code",
   "execution_count": 34,
   "outputs": [
    {
     "name": "stdout",
     "output_type": "stream",
     "text": [
      "region  is_new  number\n",
      "     0       0      55\n",
      "     0       1      75\n",
      "     1       0      32\n",
      "     1       1     210\n",
      "     2       0       6\n",
      "     2       1      15\n",
      "     3       0       1\n",
      "     3       1      21\n",
      "     4       0       4\n",
      "     4       1     253\n",
      "     5       0      45\n",
      "     5       1     115\n",
      "     6       0      16\n",
      "     6       1      93\n"
     ]
    }
   ],
   "source": [
    "new_cnt = df.groupby(['region','is_new']).size()\n",
    "cnt_df = new_cnt.to_frame(name='number').reset_index()\n",
    "#cnt_df\n",
    "print(cnt_df.to_string(index=False))"
   ],
   "metadata": {
    "collapsed": false,
    "pycharm": {
     "name": "#%%\n"
    }
   }
  },
  {
   "cell_type": "code",
   "execution_count": 35,
   "outputs": [
    {
     "name": "stdout",
     "output_type": "stream",
     "text": [
      "region  is_new  quality  number\n",
      "     0       0        3      13\n",
      "     0       0        4      39\n",
      "     0       1        3      11\n",
      "     0       1        4      20\n",
      "     1       0        3       6\n",
      "     1       0        4      22\n",
      "     1       1        3       8\n",
      "     1       1        4      16\n",
      "     2       0        4       6\n",
      "     2       1        3       4\n",
      "     2       1        4       4\n",
      "     3       0        4       1\n",
      "     3       1        3       2\n",
      "     3       1        4       4\n",
      "     4       0        4       4\n",
      "     5       0        3       9\n",
      "     5       0        4      32\n",
      "     5       1        3      23\n",
      "     5       1        4      18\n",
      "     6       0        3       5\n",
      "     6       0        4      10\n",
      "     6       1        3       9\n",
      "     6       1        4      11\n"
     ]
    }
   ],
   "source": [
    "qual_df = df[df['quality'] >= 3]\n",
    "new_cnt = qual_df.groupby(['region','is_new','quality']).size()\n",
    "cnt_df = new_cnt.to_frame(name='number').reset_index()\n",
    "#cnt_df\n",
    "print(cnt_df.to_string(index=False))"
   ],
   "metadata": {
    "collapsed": false,
    "pycharm": {
     "name": "#%%\n"
    }
   }
  },
  {
   "cell_type": "code",
   "execution_count": 36,
   "outputs": [
    {
     "name": "stdout",
     "output_type": "stream",
     "text": [
      "                                              filename            templ_dt  \\\n",
      "19   Templ-2018-05-22T06-52-03_Det-2019-08-02T13-15... 2018-05-22 06:52:03   \n",
      "152  Templ-2018-07-12T04-09-47_Det-2018-07-12T04-09... 2018-07-12 04:09:47   \n",
      "157  Templ-2018-07-17T23-00-13_Det-2018-07-15T18-24... 2018-07-17 23:00:13   \n",
      "158  Templ-2018-07-17T23-00-13_Det-2018-07-16T05-55... 2018-07-17 23:00:13   \n",
      "191  Templ-2018-08-13T15-06-36_Det-2018-08-13T15-15... 2018-08-13 15:06:36   \n",
      "322  Templ-2018-11-10T04-26-16_Det-2018-11-10T08-12... 2018-11-10 04:26:16   \n",
      "632  Templ-2019-05-22T18-35-43_Det-2019-08-30T18-23... 2019-05-22 18:35:43   \n",
      "636  Templ-2019-06-03T06-41-09_Det-2019-06-03T08-17... 2019-06-03 06:41:09   \n",
      "637  Templ-2019-06-03T06-41-09_Det-2019-06-03T08-37... 2019-06-03 06:41:09   \n",
      "881  Templ-2019-06-16T16-43-21_Det-2019-06-17T14-21... 2019-06-16 16:43:21   \n",
      "882  Templ-2019-06-16T16-43-21_Det-2019-06-16T18-58... 2019-06-16 16:43:21   \n",
      "883  Templ-2019-06-16T16-43-21_Det-2019-06-17T15-06... 2019-06-16 16:43:21   \n",
      "885  Templ-2019-06-16T16-43-21_Det-2019-06-17T09-37... 2019-06-16 16:43:21   \n",
      "886  Templ-2019-06-16T16-43-21_Det-2019-06-27T06-55... 2019-06-16 16:43:21   \n",
      "\n",
      "                 det_dt region  quality  is_new  \n",
      "19  2019-08-02 13:15:31      2        3       1  \n",
      "152 2018-07-12 04:09:16      2        3       1  \n",
      "157 2018-07-15 18:24:12      2        4       1  \n",
      "158 2018-07-16 05:55:30      2        3       1  \n",
      "191 2018-08-13 15:15:06      2        4       1  \n",
      "322 2018-11-10 08:12:25      3        4       1  \n",
      "632 2019-08-30 18:23:35      2        3       1  \n",
      "636 2019-06-03 08:17:09      2        4       1  \n",
      "637 2019-06-03 08:37:25      2        4       1  \n",
      "881 2019-06-17 14:21:09      3        4       1  \n",
      "882 2019-06-16 18:58:40      3        3       1  \n",
      "883 2019-06-17 15:06:48      3        4       1  \n",
      "885 2019-06-17 09:37:10      3        4       1  \n",
      "886 2019-06-27 06:55:03      3        3       1  \n",
      "           templ_dt              det_dt region  quality\n",
      "2018-05-22 06:52:03 2019-08-02 13:15:31      2        3\n",
      "2018-07-12 04:09:47 2018-07-12 04:09:16      2        3\n",
      "2018-07-17 23:00:13 2018-07-15 18:24:12      2        4\n",
      "2018-07-17 23:00:13 2018-07-16 05:55:30      2        3\n",
      "2018-08-13 15:06:36 2018-08-13 15:15:06      2        4\n",
      "2018-11-10 04:26:16 2018-11-10 08:12:25      3        4\n",
      "2019-05-22 18:35:43 2019-08-30 18:23:35      2        3\n",
      "2019-06-03 06:41:09 2019-06-03 08:17:09      2        4\n",
      "2019-06-03 06:41:09 2019-06-03 08:37:25      2        4\n",
      "2019-06-16 16:43:21 2019-06-17 14:21:09      3        4\n",
      "2019-06-16 16:43:21 2019-06-16 18:58:40      3        3\n",
      "2019-06-16 16:43:21 2019-06-17 15:06:48      3        4\n",
      "2019-06-16 16:43:21 2019-06-17 09:37:10      3        4\n",
      "2019-06-16 16:43:21 2019-06-27 06:55:03      3        3\n"
     ]
    }
   ],
   "source": [
    "# new events in regions 2 or 3 during months of 10-11 2018\n",
    "new_df = qual_df[qual_df['is_new']==1]\n",
    "reg23_mask = new_df.region.apply(lambda x: x in ['2','3'])\n",
    "#print(reg23_mask)\n",
    "reg23_df = new_df[reg23_mask]\n",
    "print(reg23_df)\n",
    "print(reg23_df[['templ_dt','det_dt','region','quality']].to_string(index=False))"
   ],
   "metadata": {
    "collapsed": false,
    "pycharm": {
     "name": "#%%\n"
    }
   }
  },
  {
   "cell_type": "code",
   "execution_count": 37,
   "outputs": [
    {
     "name": "stdout",
     "output_type": "stream",
     "text": [
      "           templ_dt              det_dt region  quality\n",
      "2018-05-22 06:52:03 2019-08-02 13:15:31      2        3\n",
      "2018-07-12 04:09:47 2018-07-12 04:09:16      2        3\n",
      "2018-07-17 23:00:13 2018-07-15 18:24:12      2        4\n",
      "2018-07-17 23:00:13 2018-07-16 05:55:30      2        3\n",
      "2018-08-13 15:06:36 2018-08-13 15:15:06      2        4\n",
      "2018-11-10 04:26:16 2018-11-10 08:12:25      3        4\n",
      "2019-05-22 18:35:43 2019-08-30 18:23:35      2        3\n",
      "2019-06-03 06:41:09 2019-06-03 08:17:09      2        4\n",
      "2019-06-03 06:41:09 2019-06-03 08:37:25      2        4\n",
      "2019-06-16 16:43:21 2019-06-17 14:21:09      3        4\n",
      "2019-06-16 16:43:21 2019-06-16 18:58:40      3        3\n",
      "2019-06-16 16:43:21 2019-06-17 15:06:48      3        4\n",
      "2019-06-16 16:43:21 2019-06-17 09:37:10      3        4\n",
      "2019-06-16 16:43:21 2019-06-27 06:55:03      3        3\n"
     ]
    }
   ],
   "source": [
    "# More efficient way to find new events\n",
    "filt_df = df[(df['quality']>=3) & (df['region'].isin(['2','3'])) & (df['is_new']==1)]\n",
    "print(filt_df[['templ_dt','det_dt','region','quality']].to_string(index=False))"
   ],
   "metadata": {
    "collapsed": false,
    "pycharm": {
     "name": "#%%\n"
    }
   }
  },
  {
   "cell_type": "code",
   "execution_count": 51,
   "outputs": [
    {
     "data": {
      "text/plain": "              templ_dt                                             det_dt\n0  2018-05-19 19:23:39         [2018-05-23 23:16:22, 2018-05-19 19:03:39]\n1  2018-05-19 22:04:15                              [2018-05-23 23:16:22]\n2  2018-05-20 00:51:19         [2018-05-19 19:03:39, 2018-05-23 23:16:22]\n3  2018-05-22 06:52:03                              [2019-08-02 13:15:31]\n4  2018-05-24 03:47:18                              [2018-05-24 04:19:30]\n..                 ...                                                ...\n81 2019-06-27 16:47:52                              [2019-08-25 12:43:52]\n82 2019-07-02 05:23:43  [2018-08-15 19:19:11, 2018-08-17 20:01:45, 201...\n83 2019-07-07 07:47:09                              [2019-07-09 22:19:53]\n84 2019-07-12 22:04:32         [2019-07-12 14:49:03, 2019-07-12 15:17:22]\n85 2019-07-17 14:41:50                              [2019-07-18 08:38:08]\n\n[86 rows x 2 columns]",
      "text/html": "<div>\n<style scoped>\n    .dataframe tbody tr th:only-of-type {\n        vertical-align: middle;\n    }\n\n    .dataframe tbody tr th {\n        vertical-align: top;\n    }\n\n    .dataframe thead th {\n        text-align: right;\n    }\n</style>\n<table border=\"1\" class=\"dataframe\">\n  <thead>\n    <tr style=\"text-align: right;\">\n      <th></th>\n      <th>templ_dt</th>\n      <th>det_dt</th>\n    </tr>\n  </thead>\n  <tbody>\n    <tr>\n      <th>0</th>\n      <td>2018-05-19 19:23:39</td>\n      <td>[2018-05-23 23:16:22, 2018-05-19 19:03:39]</td>\n    </tr>\n    <tr>\n      <th>1</th>\n      <td>2018-05-19 22:04:15</td>\n      <td>[2018-05-23 23:16:22]</td>\n    </tr>\n    <tr>\n      <th>2</th>\n      <td>2018-05-20 00:51:19</td>\n      <td>[2018-05-19 19:03:39, 2018-05-23 23:16:22]</td>\n    </tr>\n    <tr>\n      <th>3</th>\n      <td>2018-05-22 06:52:03</td>\n      <td>[2019-08-02 13:15:31]</td>\n    </tr>\n    <tr>\n      <th>4</th>\n      <td>2018-05-24 03:47:18</td>\n      <td>[2018-05-24 04:19:30]</td>\n    </tr>\n    <tr>\n      <th>...</th>\n      <td>...</td>\n      <td>...</td>\n    </tr>\n    <tr>\n      <th>81</th>\n      <td>2019-06-27 16:47:52</td>\n      <td>[2019-08-25 12:43:52]</td>\n    </tr>\n    <tr>\n      <th>82</th>\n      <td>2019-07-02 05:23:43</td>\n      <td>[2018-08-15 19:19:11, 2018-08-17 20:01:45, 201...</td>\n    </tr>\n    <tr>\n      <th>83</th>\n      <td>2019-07-07 07:47:09</td>\n      <td>[2019-07-09 22:19:53]</td>\n    </tr>\n    <tr>\n      <th>84</th>\n      <td>2019-07-12 22:04:32</td>\n      <td>[2019-07-12 14:49:03, 2019-07-12 15:17:22]</td>\n    </tr>\n    <tr>\n      <th>85</th>\n      <td>2019-07-17 14:41:50</td>\n      <td>[2019-07-18 08:38:08]</td>\n    </tr>\n  </tbody>\n</table>\n<p>86 rows × 2 columns</p>\n</div>"
     },
     "execution_count": 51,
     "metadata": {},
     "output_type": "execute_result"
    }
   ],
   "source": [
    "# Create a df with integer index and templ_dt in first column and det_dt list in 2nd column\n",
    "filt_df = df[(df['quality']>=3) & (df['is_new']==1)]\n",
    "by_templ_dt = filt_df.groupby(['templ_dt',])\n",
    "by_templ_dict = {}\n",
    "by_templ_list = []\n",
    "for tdt,frame in by_templ_dt:\n",
    "    #print(f\"time {tdt!r}\")\n",
    "    #print(frame['det_dt'], end='\\n\\n')\n",
    "    flist = frame['det_dt'].tolist()\n",
    "    by_templ_dict[tdt] = [flist,]\n",
    "    row = [tdt,flist]\n",
    "    by_templ_list.append(row)\n",
    "# creates DF from dict. But the index is templ_dt and there is only one column that contains det_dt\n",
    "by_templ_df = pd.DataFrame.from_dict(by_templ_dict, orient='index', columns=['det_dt'])\n",
    "by_templ_df\n",
    "# creates DF from list. The index is integers, first column is templ_dt, second is det_dt\n",
    "by_templ_df1 = pd.DataFrame.from_records(by_templ_list, columns=['templ_dt','det_dt'])\n",
    "by_templ_df1"
   ],
   "metadata": {
    "collapsed": false,
    "pycharm": {
     "name": "#%%\n"
    }
   }
  }
 ],
 "metadata": {
  "kernelspec": {
   "name": "pycharm-a3a0f6fd",
   "language": "python",
   "display_name": "PyCharm (eq_match_disp)"
  },
  "language_info": {
   "codemirror_mode": {
    "name": "ipython",
    "version": 2
   },
   "file_extension": ".py",
   "mimetype": "text/x-python",
   "name": "python",
   "nbconvert_exporter": "python",
   "pygments_lexer": "ipython2",
   "version": "2.7.6"
  }
 },
 "nbformat": 4,
 "nbformat_minor": 0
}