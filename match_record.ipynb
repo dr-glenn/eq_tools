{
 "cells": [
  {
   "cell_type": "code",
   "execution_count": 28,
   "metadata": {
    "pycharm": {
     "name": "#%%\n"
    }
   },
   "outputs": [
    {
     "data": {
      "text/plain": "                                              filename            templ_dt  \\\n0    Templ-2018-05-13T15-19-22_Det-2018-05-13T15-31... 2018-05-13 15:19:22   \n1    Templ-2018-05-13T15-19-22_Det-2019-02-23T22-24... 2018-05-13 15:19:22   \n2    Templ-2018-05-13T15-31-12_Det-2018-05-13T15-19... 2018-05-13 15:31:12   \n3    Templ-2018-05-13T15-31-12_Det-2019-02-23T18-56... 2018-05-13 15:31:12   \n4    Templ-2018-05-13T16-00-57_Det-2019-03-03T04-03... 2018-05-13 16:00:57   \n..                                                 ...                 ...   \n977  Templ-2019-07-12T22-04-32_Det-2019-07-12T14-49... 2019-07-12 22:04:32   \n978  Templ-2019-07-13T07-56-06_Det-2018-12-17T06-26... 2019-07-13 07:56:06   \n979  Templ-2019-07-17T14-41-50_Det-2019-07-18T06-09... 2019-07-17 14:41:50   \n980  Templ-2019-07-17T14-41-50_Det-2019-07-18T08-38... 2019-07-17 14:41:50   \n981  Templ-2019-07-30T07-22-09_Det-2018-05-12T08-49... 2019-07-30 07:22:09   \n\n                 det_dt region  quality  is_new  \n0   2018-05-13 15:31:26      0        4       0  \n1   2019-02-23 22:24:57      0        1       1  \n2   2018-05-13 15:19:35      0        4       0  \n3   2019-02-23 18:56:02      0        1       1  \n4   2019-03-03 04:03:27      0        2       0  \n..                  ...    ...      ...     ...  \n977 2019-07-12 14:49:01      5        4       1  \n978 2018-12-17 06:26:01      0        2       1  \n979 2019-07-18 06:09:32      5        4       1  \n980 2019-07-18 08:38:07      5        3       1  \n981 2018-05-12 08:49:09      4        1       1  \n\n[982 rows x 6 columns]",
      "text/html": "<div>\n<style scoped>\n    .dataframe tbody tr th:only-of-type {\n        vertical-align: middle;\n    }\n\n    .dataframe tbody tr th {\n        vertical-align: top;\n    }\n\n    .dataframe thead th {\n        text-align: right;\n    }\n</style>\n<table border=\"1\" class=\"dataframe\">\n  <thead>\n    <tr style=\"text-align: right;\">\n      <th></th>\n      <th>filename</th>\n      <th>templ_dt</th>\n      <th>det_dt</th>\n      <th>region</th>\n      <th>quality</th>\n      <th>is_new</th>\n    </tr>\n  </thead>\n  <tbody>\n    <tr>\n      <th>0</th>\n      <td>Templ-2018-05-13T15-19-22_Det-2018-05-13T15-31...</td>\n      <td>2018-05-13 15:19:22</td>\n      <td>2018-05-13 15:31:26</td>\n      <td>0</td>\n      <td>4</td>\n      <td>0</td>\n    </tr>\n    <tr>\n      <th>1</th>\n      <td>Templ-2018-05-13T15-19-22_Det-2019-02-23T22-24...</td>\n      <td>2018-05-13 15:19:22</td>\n      <td>2019-02-23 22:24:57</td>\n      <td>0</td>\n      <td>1</td>\n      <td>1</td>\n    </tr>\n    <tr>\n      <th>2</th>\n      <td>Templ-2018-05-13T15-31-12_Det-2018-05-13T15-19...</td>\n      <td>2018-05-13 15:31:12</td>\n      <td>2018-05-13 15:19:35</td>\n      <td>0</td>\n      <td>4</td>\n      <td>0</td>\n    </tr>\n    <tr>\n      <th>3</th>\n      <td>Templ-2018-05-13T15-31-12_Det-2019-02-23T18-56...</td>\n      <td>2018-05-13 15:31:12</td>\n      <td>2019-02-23 18:56:02</td>\n      <td>0</td>\n      <td>1</td>\n      <td>1</td>\n    </tr>\n    <tr>\n      <th>4</th>\n      <td>Templ-2018-05-13T16-00-57_Det-2019-03-03T04-03...</td>\n      <td>2018-05-13 16:00:57</td>\n      <td>2019-03-03 04:03:27</td>\n      <td>0</td>\n      <td>2</td>\n      <td>0</td>\n    </tr>\n    <tr>\n      <th>...</th>\n      <td>...</td>\n      <td>...</td>\n      <td>...</td>\n      <td>...</td>\n      <td>...</td>\n      <td>...</td>\n    </tr>\n    <tr>\n      <th>977</th>\n      <td>Templ-2019-07-12T22-04-32_Det-2019-07-12T14-49...</td>\n      <td>2019-07-12 22:04:32</td>\n      <td>2019-07-12 14:49:01</td>\n      <td>5</td>\n      <td>4</td>\n      <td>1</td>\n    </tr>\n    <tr>\n      <th>978</th>\n      <td>Templ-2019-07-13T07-56-06_Det-2018-12-17T06-26...</td>\n      <td>2019-07-13 07:56:06</td>\n      <td>2018-12-17 06:26:01</td>\n      <td>0</td>\n      <td>2</td>\n      <td>1</td>\n    </tr>\n    <tr>\n      <th>979</th>\n      <td>Templ-2019-07-17T14-41-50_Det-2019-07-18T06-09...</td>\n      <td>2019-07-17 14:41:50</td>\n      <td>2019-07-18 06:09:32</td>\n      <td>5</td>\n      <td>4</td>\n      <td>1</td>\n    </tr>\n    <tr>\n      <th>980</th>\n      <td>Templ-2019-07-17T14-41-50_Det-2019-07-18T08-38...</td>\n      <td>2019-07-17 14:41:50</td>\n      <td>2019-07-18 08:38:07</td>\n      <td>5</td>\n      <td>3</td>\n      <td>1</td>\n    </tr>\n    <tr>\n      <th>981</th>\n      <td>Templ-2019-07-30T07-22-09_Det-2018-05-12T08-49...</td>\n      <td>2019-07-30 07:22:09</td>\n      <td>2018-05-12 08:49:09</td>\n      <td>4</td>\n      <td>1</td>\n      <td>1</td>\n    </tr>\n  </tbody>\n</table>\n<p>982 rows × 6 columns</p>\n</div>"
     },
     "execution_count": 28,
     "metadata": {},
     "output_type": "execute_result"
    }
   ],
   "source": [
    "import pandas as pd\n",
    "import datetime as dt\n",
    "from my_util import dt_match\n",
    "\n",
    "MATCH_RECORD_FILE = 'E:\\Glenn Nelson\\science\\eq_gaps\\match_records.csv'\n",
    "csv_file = MATCH_RECORD_FILE\n",
    "date_cols = ['templ_dt', 'det_dt']\n",
    "df = pd.read_csv(csv_file, dtype={'region':'string'}, parse_dates=date_cols)\n",
    "df"
   ]
  },
  {
   "cell_type": "code",
   "execution_count": 29,
   "metadata": {
    "pycharm": {
     "name": "#%%\n"
    }
   },
   "outputs": [
    {
     "data": {
      "text/plain": "   total  unseen\n4    257    <NA>\n0    246    <NA>\n1    242    <NA>\n5    112    <NA>\n6     69    <NA>\n3     22    <NA>\n2     21    <NA>\n7     13    <NA>",
      "text/html": "<div>\n<style scoped>\n    .dataframe tbody tr th:only-of-type {\n        vertical-align: middle;\n    }\n\n    .dataframe tbody tr th {\n        vertical-align: top;\n    }\n\n    .dataframe thead th {\n        text-align: right;\n    }\n</style>\n<table border=\"1\" class=\"dataframe\">\n  <thead>\n    <tr style=\"text-align: right;\">\n      <th></th>\n      <th>total</th>\n      <th>unseen</th>\n    </tr>\n  </thead>\n  <tbody>\n    <tr>\n      <th>4</th>\n      <td>257</td>\n      <td>&lt;NA&gt;</td>\n    </tr>\n    <tr>\n      <th>0</th>\n      <td>246</td>\n      <td>&lt;NA&gt;</td>\n    </tr>\n    <tr>\n      <th>1</th>\n      <td>242</td>\n      <td>&lt;NA&gt;</td>\n    </tr>\n    <tr>\n      <th>5</th>\n      <td>112</td>\n      <td>&lt;NA&gt;</td>\n    </tr>\n    <tr>\n      <th>6</th>\n      <td>69</td>\n      <td>&lt;NA&gt;</td>\n    </tr>\n    <tr>\n      <th>3</th>\n      <td>22</td>\n      <td>&lt;NA&gt;</td>\n    </tr>\n    <tr>\n      <th>2</th>\n      <td>21</td>\n      <td>&lt;NA&gt;</td>\n    </tr>\n    <tr>\n      <th>7</th>\n      <td>13</td>\n      <td>&lt;NA&gt;</td>\n    </tr>\n  </tbody>\n</table>\n</div>"
     },
     "execution_count": 29,
     "metadata": {},
     "output_type": "execute_result"
    }
   ],
   "source": [
    "region_cnt = df['region'].value_counts()\n",
    "region_cnt.rename('total', inplace=True)\n",
    "unseen_df = df[df['quality']==-1]\n",
    "unseen_cnt = unseen_df['region'].value_counts()\n",
    "unseen_cnt.rename('unseen', inplace=True)\n",
    "cnt_df = pd.concat([region_cnt,unseen_cnt], axis=1)\n",
    "cnt_df"
   ]
  },
  {
   "cell_type": "code",
   "execution_count": 30,
   "metadata": {
    "pycharm": {
     "name": "#%%\n"
    }
   },
   "outputs": [
    {
     "data": {
      "text/plain": "4    253\n1    210\n0    144\n5     57\n6     41\n3     21\n2     15\n7      7\nName: region, dtype: Int64"
     },
     "execution_count": 30,
     "metadata": {},
     "output_type": "execute_result"
    }
   ],
   "source": [
    "# tally the new events\n",
    "new_cnt = df[df['is_new']==1]\n",
    "new_cnt = new_cnt['region'].value_counts()\n",
    "new_cnt"
   ]
  },
  {
   "cell_type": "code",
   "execution_count": 31,
   "metadata": {
    "pycharm": {
     "name": "#%%\n"
    }
   },
   "outputs": [
    {
     "name": "stdout",
     "output_type": "stream",
     "text": [
      "region  is_new  number\n",
      "     0       0     102\n",
      "     0       1     144\n",
      "     1       0      32\n",
      "     1       1     210\n",
      "     2       0       6\n",
      "     2       1      15\n",
      "     3       0       1\n",
      "     3       1      21\n",
      "     4       0       4\n",
      "     4       1     253\n",
      "     5       0      55\n",
      "     5       1      57\n",
      "     6       0      28\n",
      "     6       1      41\n",
      "     7       0       6\n",
      "     7       1       7\n"
     ]
    }
   ],
   "source": [
    "# tally both new events and events that match other templates\n",
    "new_cnt = df.groupby(['region','is_new']).size()\n",
    "cnt_df = new_cnt.to_frame(name='number').reset_index()\n",
    "#cnt_df\n",
    "print(cnt_df.to_string(index=False))"
   ]
  },
  {
   "cell_type": "code",
   "execution_count": 32,
   "metadata": {
    "pycharm": {
     "name": "#%%\n"
    }
   },
   "outputs": [
    {
     "name": "stdout",
     "output_type": "stream",
     "text": [
      "region  is_new  quality  number\n",
      "     0       0        3      21\n",
      "     0       0        4      68\n",
      "     0       1        3      19\n",
      "     0       1        4      37\n",
      "     1       0        3       6\n",
      "     1       0        4      22\n",
      "     1       1        3       8\n",
      "     1       1        4      16\n",
      "     2       0        4       6\n",
      "     2       1        3       4\n",
      "     2       1        4       4\n",
      "     3       0        4       1\n",
      "     3       1        3       2\n",
      "     3       1        4       4\n",
      "     4       0        4       4\n",
      "     5       0        3       7\n",
      "     5       0        4      48\n",
      "     5       1        3      14\n",
      "     5       1        4      26\n",
      "     6       0        3       2\n",
      "     6       0        4      25\n",
      "     6       1        3       4\n",
      "     6       1        4      27\n",
      "     7       0        3       1\n",
      "     7       0        4       5\n",
      "     7       1        3       1\n",
      "     7       1        4       5\n"
     ]
    }
   ],
   "source": [
    "# Group by region, is_new, and quality\n",
    "qual_df = df[df['quality'] >= 3]\n",
    "new_cnt = qual_df.groupby(['region','is_new','quality']).size()\n",
    "cnt_df = new_cnt.to_frame(name='number').reset_index()\n",
    "#cnt_df\n",
    "print(cnt_df.to_string(index=False))"
   ]
  },
  {
   "cell_type": "code",
   "execution_count": 33,
   "outputs": [
    {
     "name": "stdout",
     "output_type": "stream",
     "text": [
      "region  is_new  number\n",
      "     0       0      89\n",
      "     0       1      56\n",
      "     1       0      28\n",
      "     1       1      24\n",
      "     2       0       6\n",
      "     2       1       8\n",
      "     3       0       1\n",
      "     3       1       6\n",
      "     4       0       4\n",
      "     5       0      55\n",
      "     5       1      40\n",
      "     6       0      27\n",
      "     6       1      31\n",
      "     7       0       6\n",
      "     7       1       6\n"
     ]
    }
   ],
   "source": [
    "# Show new and other template events of quality 3 and 4\n",
    "new_cnt = qual_df.groupby(['region','is_new']).size()\n",
    "cnt_df = new_cnt.to_frame(name='number').reset_index()\n",
    "print(cnt_df.to_string(index=False))"
   ],
   "metadata": {
    "collapsed": false,
    "pycharm": {
     "name": "#%%\n"
    }
   }
  },
  {
   "cell_type": "code",
   "execution_count": 34,
   "metadata": {
    "pycharm": {
     "name": "#%%\n"
    }
   },
   "outputs": [
    {
     "name": "stdout",
     "output_type": "stream",
     "text": [
      "                                              filename            templ_dt  \\\n",
      "30   Templ-2018-05-22T06-52-03_Det-2019-08-02T13-15... 2018-05-22 06:52:03   \n",
      "152  Templ-2018-07-12T04-09-47_Det-2018-07-12T04-09... 2018-07-12 04:09:47   \n",
      "165  Templ-2018-07-17T23-00-13_Det-2018-07-15T18-24... 2018-07-17 23:00:13   \n",
      "166  Templ-2018-07-17T23-00-13_Det-2018-07-16T05-55... 2018-07-17 23:00:13   \n",
      "209  Templ-2018-08-13T15-06-36_Det-2018-08-13T15-15... 2018-08-13 15:06:36   \n",
      "333  Templ-2018-11-10T04-26-16_Det-2018-11-10T08-12... 2018-11-10 04:26:16   \n",
      "699  Templ-2019-05-22T18-35-43_Det-2019-08-30T18-23... 2019-05-22 18:35:43   \n",
      "706  Templ-2019-06-03T06-41-09_Det-2019-06-03T08-37... 2019-06-03 06:41:09   \n",
      "707  Templ-2019-06-03T06-41-09_Det-2019-06-03T08-17... 2019-06-03 06:41:09   \n",
      "954  Templ-2019-06-16T16-43-21_Det-2019-06-17T09-37... 2019-06-16 16:43:21   \n",
      "955  Templ-2019-06-16T16-43-21_Det-2019-06-16T18-58... 2019-06-16 16:43:21   \n",
      "956  Templ-2019-06-16T16-43-21_Det-2019-06-17T14-21... 2019-06-16 16:43:21   \n",
      "957  Templ-2019-06-16T16-43-21_Det-2019-06-17T15-06... 2019-06-16 16:43:21   \n",
      "958  Templ-2019-06-16T16-43-21_Det-2019-06-27T06-55... 2019-06-16 16:43:21   \n",
      "\n",
      "                 det_dt region  quality  is_new  \n",
      "30  2019-08-02 13:15:31      2        3       1  \n",
      "152 2018-07-12 04:09:16      2        3       1  \n",
      "165 2018-07-15 18:24:12      2        4       1  \n",
      "166 2018-07-16 05:55:30      2        3       1  \n",
      "209 2018-08-13 15:15:06      2        4       1  \n",
      "333 2018-11-10 08:12:25      3        4       1  \n",
      "699 2019-08-30 18:23:35      2        3       1  \n",
      "706 2019-06-03 08:37:25      2        4       1  \n",
      "707 2019-06-03 08:17:09      2        4       1  \n",
      "954 2019-06-17 09:37:10      3        4       1  \n",
      "955 2019-06-16 18:58:40      3        3       1  \n",
      "956 2019-06-17 14:21:09      3        4       1  \n",
      "957 2019-06-17 15:06:48      3        4       1  \n",
      "958 2019-06-27 06:55:03      3        3       1  \n",
      "           templ_dt              det_dt region  quality\n",
      "2018-05-22 06:52:03 2019-08-02 13:15:31      2        3\n",
      "2018-07-12 04:09:47 2018-07-12 04:09:16      2        3\n",
      "2018-07-17 23:00:13 2018-07-15 18:24:12      2        4\n",
      "2018-07-17 23:00:13 2018-07-16 05:55:30      2        3\n",
      "2018-08-13 15:06:36 2018-08-13 15:15:06      2        4\n",
      "2018-11-10 04:26:16 2018-11-10 08:12:25      3        4\n",
      "2019-05-22 18:35:43 2019-08-30 18:23:35      2        3\n",
      "2019-06-03 06:41:09 2019-06-03 08:37:25      2        4\n",
      "2019-06-03 06:41:09 2019-06-03 08:17:09      2        4\n",
      "2019-06-16 16:43:21 2019-06-17 09:37:10      3        4\n",
      "2019-06-16 16:43:21 2019-06-16 18:58:40      3        3\n",
      "2019-06-16 16:43:21 2019-06-17 14:21:09      3        4\n",
      "2019-06-16 16:43:21 2019-06-17 15:06:48      3        4\n",
      "2019-06-16 16:43:21 2019-06-27 06:55:03      3        3\n"
     ]
    }
   ],
   "source": [
    "# new events in regions 2 or 3 during months of 10-11 2018\n",
    "new_df = qual_df[qual_df['is_new']==1]\n",
    "reg23_mask = new_df.region.apply(lambda x: x in ['2','3'])\n",
    "#print(reg23_mask)\n",
    "reg23_df = new_df[reg23_mask]\n",
    "print(reg23_df)\n",
    "print(reg23_df[['templ_dt','det_dt','region','quality']].to_string(index=False))"
   ]
  },
  {
   "cell_type": "code",
   "execution_count": 35,
   "metadata": {
    "pycharm": {
     "name": "#%%\n"
    }
   },
   "outputs": [
    {
     "name": "stdout",
     "output_type": "stream",
     "text": [
      "           templ_dt              det_dt region  quality\n",
      "2018-05-22 06:52:03 2019-08-02 13:15:31      2        3\n",
      "2018-07-12 04:09:47 2018-07-12 04:09:16      2        3\n",
      "2018-07-17 23:00:13 2018-07-15 18:24:12      2        4\n",
      "2018-07-17 23:00:13 2018-07-16 05:55:30      2        3\n",
      "2018-08-13 15:06:36 2018-08-13 15:15:06      2        4\n",
      "2018-11-10 04:26:16 2018-11-10 08:12:25      3        4\n",
      "2019-05-22 18:35:43 2019-08-30 18:23:35      2        3\n",
      "2019-06-03 06:41:09 2019-06-03 08:37:25      2        4\n",
      "2019-06-03 06:41:09 2019-06-03 08:17:09      2        4\n",
      "2019-06-16 16:43:21 2019-06-17 09:37:10      3        4\n",
      "2019-06-16 16:43:21 2019-06-16 18:58:40      3        3\n",
      "2019-06-16 16:43:21 2019-06-17 14:21:09      3        4\n",
      "2019-06-16 16:43:21 2019-06-17 15:06:48      3        4\n",
      "2019-06-16 16:43:21 2019-06-27 06:55:03      3        3\n"
     ]
    }
   ],
   "source": [
    "# More efficient way to find new events\n",
    "filt_df = df[(df['quality']>=3) & (df['region'].isin(['2','3'])) & (df['is_new']==1)]\n",
    "print(filt_df[['templ_dt','det_dt','region','quality']].to_string(index=False))"
   ]
  },
  {
   "cell_type": "code",
   "execution_count": 36,
   "metadata": {
    "pycharm": {
     "name": "#%%\n"
    }
   },
   "outputs": [
    {
     "data": {
      "text/plain": "               templ_dt                                      det_dt\n0   2018-05-18 01:46:40                       [2019-07-05 03:21:16]\n1   2018-05-19 19:23:39  [2018-05-19 19:03:39, 2018-05-23 23:16:22]\n2   2018-05-19 22:04:15                       [2018-05-23 23:16:22]\n3   2018-05-20 00:51:19  [2018-05-23 23:16:22, 2018-05-19 19:03:39]\n4   2018-05-22 06:52:03                       [2019-08-02 13:15:31]\n..                  ...                                         ...\n118 2019-06-27 16:47:52                       [2019-08-25 12:43:50]\n119 2019-07-02 17:25:34  [2019-06-19 15:10:33, 2019-06-04 08:37:39]\n120 2019-07-07 07:47:09                       [2019-07-09 22:19:53]\n121 2019-07-12 22:04:32  [2019-07-12 15:17:20, 2019-07-12 14:49:01]\n122 2019-07-17 14:41:50  [2019-07-18 06:09:32, 2019-07-18 08:38:07]\n\n[123 rows x 2 columns]",
      "text/html": "<div>\n<style scoped>\n    .dataframe tbody tr th:only-of-type {\n        vertical-align: middle;\n    }\n\n    .dataframe tbody tr th {\n        vertical-align: top;\n    }\n\n    .dataframe thead th {\n        text-align: right;\n    }\n</style>\n<table border=\"1\" class=\"dataframe\">\n  <thead>\n    <tr style=\"text-align: right;\">\n      <th></th>\n      <th>templ_dt</th>\n      <th>det_dt</th>\n    </tr>\n  </thead>\n  <tbody>\n    <tr>\n      <th>0</th>\n      <td>2018-05-18 01:46:40</td>\n      <td>[2019-07-05 03:21:16]</td>\n    </tr>\n    <tr>\n      <th>1</th>\n      <td>2018-05-19 19:23:39</td>\n      <td>[2018-05-19 19:03:39, 2018-05-23 23:16:22]</td>\n    </tr>\n    <tr>\n      <th>2</th>\n      <td>2018-05-19 22:04:15</td>\n      <td>[2018-05-23 23:16:22]</td>\n    </tr>\n    <tr>\n      <th>3</th>\n      <td>2018-05-20 00:51:19</td>\n      <td>[2018-05-23 23:16:22, 2018-05-19 19:03:39]</td>\n    </tr>\n    <tr>\n      <th>4</th>\n      <td>2018-05-22 06:52:03</td>\n      <td>[2019-08-02 13:15:31]</td>\n    </tr>\n    <tr>\n      <th>...</th>\n      <td>...</td>\n      <td>...</td>\n    </tr>\n    <tr>\n      <th>118</th>\n      <td>2019-06-27 16:47:52</td>\n      <td>[2019-08-25 12:43:50]</td>\n    </tr>\n    <tr>\n      <th>119</th>\n      <td>2019-07-02 17:25:34</td>\n      <td>[2019-06-19 15:10:33, 2019-06-04 08:37:39]</td>\n    </tr>\n    <tr>\n      <th>120</th>\n      <td>2019-07-07 07:47:09</td>\n      <td>[2019-07-09 22:19:53]</td>\n    </tr>\n    <tr>\n      <th>121</th>\n      <td>2019-07-12 22:04:32</td>\n      <td>[2019-07-12 15:17:20, 2019-07-12 14:49:01]</td>\n    </tr>\n    <tr>\n      <th>122</th>\n      <td>2019-07-17 14:41:50</td>\n      <td>[2019-07-18 06:09:32, 2019-07-18 08:38:07]</td>\n    </tr>\n  </tbody>\n</table>\n<p>123 rows × 2 columns</p>\n</div>"
     },
     "execution_count": 36,
     "metadata": {},
     "output_type": "execute_result"
    }
   ],
   "source": [
    "# Create a df with integer index and templ_dt in first column and det_dt list in 2nd column\n",
    "filt_df = df[(df['quality']>=3) & (df['is_new']==1)]\n",
    "by_templ_dt = filt_df.groupby(['templ_dt',])\n",
    "by_templ_dict = {}\n",
    "by_templ_list = []\n",
    "for tdt,frame in by_templ_dt:\n",
    "    #print(f\"time {tdt!r}\")\n",
    "    #print(frame['det_dt'], end='\\n\\n')\n",
    "    flist = frame['det_dt'].tolist()\n",
    "    by_templ_dict[tdt] = [flist,]\n",
    "    row = [tdt,flist]\n",
    "    by_templ_list.append(row)\n",
    "# creates DF from dict. But the index is templ_dt and there is only one column that contains det_dt\n",
    "by_templ_df = pd.DataFrame.from_dict(by_templ_dict, orient='index', columns=['det_dt'])\n",
    "by_templ_df\n",
    "# creates DF from list. The index is integers, first column is templ_dt, second is det_dt\n",
    "by_templ_df1 = pd.DataFrame.from_records(by_templ_list, columns=['templ_dt','det_dt'])\n",
    "by_templ_df1"
   ]
  },
  {
   "cell_type": "code",
   "execution_count": 37,
   "outputs": [
    {
     "data": {
      "text/plain": "               templ_dt                                  not_new_dt  \\\n0   2018-05-13 15:19:22                       [2018-05-13 15:31:26]   \n1   2018-05-13 15:31:12                       [2018-05-13 15:19:35]   \n2   2018-05-18 01:46:40                                          []   \n3   2018-05-19 08:14:07                       [2018-05-22 05:24:26]   \n4   2018-05-19 19:23:39  [2018-05-19 22:04:24, 2018-05-20 00:51:28]   \n..                  ...                                         ...   \n252 2019-07-05 17:57:11                       [2019-07-02 19:51:33]   \n253 2019-07-07 07:47:09                                          []   \n254 2019-07-08 12:06:25                       [2019-07-08 07:20:41]   \n255 2019-07-12 22:04:32                                          []   \n256 2019-07-17 14:41:50                                          []   \n\n                                         new_dt  \n0                                            []  \n1                                            []  \n2                         [2019-07-05 03:21:16]  \n3                                            []  \n4    [2018-05-19 19:03:39, 2018-05-23 23:16:22]  \n..                                          ...  \n252                                          []  \n253                       [2019-07-09 22:19:53]  \n254                                          []  \n255  [2019-07-12 15:17:20, 2019-07-12 14:49:01]  \n256  [2019-07-18 06:09:32, 2019-07-18 08:38:07]  \n\n[257 rows x 3 columns]",
      "text/html": "<div>\n<style scoped>\n    .dataframe tbody tr th:only-of-type {\n        vertical-align: middle;\n    }\n\n    .dataframe tbody tr th {\n        vertical-align: top;\n    }\n\n    .dataframe thead th {\n        text-align: right;\n    }\n</style>\n<table border=\"1\" class=\"dataframe\">\n  <thead>\n    <tr style=\"text-align: right;\">\n      <th></th>\n      <th>templ_dt</th>\n      <th>not_new_dt</th>\n      <th>new_dt</th>\n    </tr>\n  </thead>\n  <tbody>\n    <tr>\n      <th>0</th>\n      <td>2018-05-13 15:19:22</td>\n      <td>[2018-05-13 15:31:26]</td>\n      <td>[]</td>\n    </tr>\n    <tr>\n      <th>1</th>\n      <td>2018-05-13 15:31:12</td>\n      <td>[2018-05-13 15:19:35]</td>\n      <td>[]</td>\n    </tr>\n    <tr>\n      <th>2</th>\n      <td>2018-05-18 01:46:40</td>\n      <td>[]</td>\n      <td>[2019-07-05 03:21:16]</td>\n    </tr>\n    <tr>\n      <th>3</th>\n      <td>2018-05-19 08:14:07</td>\n      <td>[2018-05-22 05:24:26]</td>\n      <td>[]</td>\n    </tr>\n    <tr>\n      <th>4</th>\n      <td>2018-05-19 19:23:39</td>\n      <td>[2018-05-19 22:04:24, 2018-05-20 00:51:28]</td>\n      <td>[2018-05-19 19:03:39, 2018-05-23 23:16:22]</td>\n    </tr>\n    <tr>\n      <th>...</th>\n      <td>...</td>\n      <td>...</td>\n      <td>...</td>\n    </tr>\n    <tr>\n      <th>252</th>\n      <td>2019-07-05 17:57:11</td>\n      <td>[2019-07-02 19:51:33]</td>\n      <td>[]</td>\n    </tr>\n    <tr>\n      <th>253</th>\n      <td>2019-07-07 07:47:09</td>\n      <td>[]</td>\n      <td>[2019-07-09 22:19:53]</td>\n    </tr>\n    <tr>\n      <th>254</th>\n      <td>2019-07-08 12:06:25</td>\n      <td>[2019-07-08 07:20:41]</td>\n      <td>[]</td>\n    </tr>\n    <tr>\n      <th>255</th>\n      <td>2019-07-12 22:04:32</td>\n      <td>[]</td>\n      <td>[2019-07-12 15:17:20, 2019-07-12 14:49:01]</td>\n    </tr>\n    <tr>\n      <th>256</th>\n      <td>2019-07-17 14:41:50</td>\n      <td>[]</td>\n      <td>[2019-07-18 06:09:32, 2019-07-18 08:38:07]</td>\n    </tr>\n  </tbody>\n</table>\n<p>257 rows × 3 columns</p>\n</div>"
     },
     "execution_count": 37,
     "metadata": {},
     "output_type": "execute_result"
    }
   ],
   "source": [
    "# create DF with two columns, templ_dt and det_dt, but in each row templ_dt contains\n",
    "# a list of all templates that match another template and the det_dt value is a list\n",
    "# of all new detections for all of those templates.\n",
    "filt_df = df[(df['quality']>=3)]\n",
    "x_df = filt_df[filt_df['is_new']==0]\n",
    "not_new_df = x_df[['templ_dt','det_dt','quality']].copy()\n",
    "by_templ_dt = filt_df.groupby(['templ_dt',])\n",
    "by_templ_list = []\n",
    "for tdt,frame in by_templ_dt:\n",
    "    old_match = frame[frame['is_new']==0]    # all matches that are existing templates\n",
    "    new_match = frame[frame['is_new']==1]\n",
    "    row = [tdt, old_match['det_dt'].tolist(), new_match['det_dt'].tolist()]\n",
    "    by_templ_list.append(row)\n",
    "# creates DF from list. The index is integers, first column is list of templ_dt, second is list of det_dt\n",
    "by_templ_df1 = pd.DataFrame.from_records(by_templ_list, columns=['templ_dt','not_new_dt','new_dt'])\n",
    "by_templ_df1"
   ],
   "metadata": {
    "collapsed": false,
    "pycharm": {
     "name": "#%%\n"
    }
   }
  },
  {
   "cell_type": "code",
   "execution_count": 45,
   "outputs": [
    {
     "data": {
      "text/plain": "               templ_dt                                  not_new_dt  \\\n0   2018-05-13 15:19:22                       [2018-05-13 15:31:26]   \n1   2018-05-13 15:31:12                       [2018-05-13 15:19:35]   \n2   2018-05-18 01:46:40                                          []   \n3   2018-05-19 08:14:07                       [2018-05-22 05:24:26]   \n4   2018-05-19 19:23:39  [2018-05-19 22:04:24, 2018-05-20 00:51:28]   \n..                  ...                                         ...   \n252 2019-07-05 17:57:11                       [2019-07-02 19:51:33]   \n253 2019-07-07 07:47:09                                          []   \n254 2019-07-08 12:06:25                       [2019-07-08 07:20:41]   \n255 2019-07-12 22:04:32                                          []   \n256 2019-07-17 14:41:50                                          []   \n\n                                                new_dt  \n0                                                 [[]]  \n1                                                 [[]]  \n2                                [2019-07-05 03:21:16]  \n3                                                 [[]]  \n4    [[2018-05-19 19:03:39, 2018-05-23 23:16:22], [...  \n..                                                 ...  \n252                                               [[]]  \n253                              [2019-07-09 22:19:53]  \n254                                               [[]]  \n255         [2019-07-12 15:17:20, 2019-07-12 14:49:01]  \n256         [2019-07-18 06:09:32, 2019-07-18 08:38:07]  \n\n[257 rows x 3 columns]",
      "text/html": "<div>\n<style scoped>\n    .dataframe tbody tr th:only-of-type {\n        vertical-align: middle;\n    }\n\n    .dataframe tbody tr th {\n        vertical-align: top;\n    }\n\n    .dataframe thead th {\n        text-align: right;\n    }\n</style>\n<table border=\"1\" class=\"dataframe\">\n  <thead>\n    <tr style=\"text-align: right;\">\n      <th></th>\n      <th>templ_dt</th>\n      <th>not_new_dt</th>\n      <th>new_dt</th>\n    </tr>\n  </thead>\n  <tbody>\n    <tr>\n      <th>0</th>\n      <td>2018-05-13 15:19:22</td>\n      <td>[2018-05-13 15:31:26]</td>\n      <td>[[]]</td>\n    </tr>\n    <tr>\n      <th>1</th>\n      <td>2018-05-13 15:31:12</td>\n      <td>[2018-05-13 15:19:35]</td>\n      <td>[[]]</td>\n    </tr>\n    <tr>\n      <th>2</th>\n      <td>2018-05-18 01:46:40</td>\n      <td>[]</td>\n      <td>[2019-07-05 03:21:16]</td>\n    </tr>\n    <tr>\n      <th>3</th>\n      <td>2018-05-19 08:14:07</td>\n      <td>[2018-05-22 05:24:26]</td>\n      <td>[[]]</td>\n    </tr>\n    <tr>\n      <th>4</th>\n      <td>2018-05-19 19:23:39</td>\n      <td>[2018-05-19 22:04:24, 2018-05-20 00:51:28]</td>\n      <td>[[2018-05-19 19:03:39, 2018-05-23 23:16:22], [...</td>\n    </tr>\n    <tr>\n      <th>...</th>\n      <td>...</td>\n      <td>...</td>\n      <td>...</td>\n    </tr>\n    <tr>\n      <th>252</th>\n      <td>2019-07-05 17:57:11</td>\n      <td>[2019-07-02 19:51:33]</td>\n      <td>[[]]</td>\n    </tr>\n    <tr>\n      <th>253</th>\n      <td>2019-07-07 07:47:09</td>\n      <td>[]</td>\n      <td>[2019-07-09 22:19:53]</td>\n    </tr>\n    <tr>\n      <th>254</th>\n      <td>2019-07-08 12:06:25</td>\n      <td>[2019-07-08 07:20:41]</td>\n      <td>[[]]</td>\n    </tr>\n    <tr>\n      <th>255</th>\n      <td>2019-07-12 22:04:32</td>\n      <td>[]</td>\n      <td>[2019-07-12 15:17:20, 2019-07-12 14:49:01]</td>\n    </tr>\n    <tr>\n      <th>256</th>\n      <td>2019-07-17 14:41:50</td>\n      <td>[]</td>\n      <td>[2019-07-18 06:09:32, 2019-07-18 08:38:07]</td>\n    </tr>\n  </tbody>\n</table>\n<p>257 rows × 3 columns</p>\n</div>"
     },
     "execution_count": 45,
     "metadata": {},
     "output_type": "execute_result"
    }
   ],
   "source": [
    "# If templ_dt has entries in not_new_dt, we want to gather the new_dt lists for these not_new matches.\n",
    "# The new_dt entry should actually be a list of lists, with each sub-list being the collection of new_dt\n",
    "# from others.\n",
    "# Lookup entries in not_new_dt with templ_dt: detection time is not the same as template time,\n",
    "# so function is used for search.\n",
    "# TODO: are there any template-template matches that are not reciprocal?\n",
    "\n",
    "# Build a new DF, I just don't know how to manipulate the existing DF in place\n",
    "all_list = []\n",
    "for idx,row in by_templ_df1.iterrows():\n",
    "    if row['not_new_dt']:   # template matches other templates\n",
    "        #print('idx={}: not_new_dt: {}'.format(idx, row['not_new_dt']))\n",
    "        new_list = []\n",
    "        for t in row['not_new_dt']:\n",
    "            match_dt = by_templ_df1[by_templ_df1.apply(lambda x: dt_match(x['templ_dt'], t), axis=1)]\n",
    "            if idx < 0:\n",
    "                print(match_dt)\n",
    "            new_list.append(row['new_dt'])\n",
    "        all_list.append([row['templ_dt'], row['not_new_dt'], new_list])\n",
    "    else:   # does not match any other templates\n",
    "        all_list.append([row['templ_dt'], row['not_new_dt'], row['new_dt']])\n",
    "all_match_df = pd.DataFrame.from_records(all_list, columns=['templ_dt','not_new_dt','new_dt'])\n",
    "all_match_df"
   ],
   "metadata": {
    "collapsed": false,
    "pycharm": {
     "name": "#%%\n"
    }
   }
  },
  {
   "cell_type": "code",
   "execution_count": null,
   "outputs": [],
   "source": [
    "# We still have work to do before this data is useful.\n",
    "# 1. If not_new_dt is not empty,\n",
    "# 2. If new_dt is an empty list, then we can delete that row because the detected event is another template\n",
    "#    and is consolidated with another template.\n",
    "# 3."
   ],
   "metadata": {
    "collapsed": false,
    "pycharm": {
     "name": "#%%\n"
    }
   }
  }
 ],
 "metadata": {
  "kernelspec": {
   "display_name": "PyCharm (eq_match_disp)",
   "language": "python",
   "name": "pycharm-a3a0f6fd"
  },
  "language_info": {
   "codemirror_mode": {
    "name": "ipython",
    "version": 3
   },
   "file_extension": ".py",
   "mimetype": "text/x-python",
   "name": "python",
   "nbconvert_exporter": "python",
   "pygments_lexer": "ipython3",
   "version": "3.10.2"
  }
 },
 "nbformat": 4,
 "nbformat_minor": 1
}